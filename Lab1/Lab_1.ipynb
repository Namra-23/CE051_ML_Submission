{
  "nbformat": 4,
  "nbformat_minor": 0,
  "metadata": {
    "colab": {
      "provenance": []
    },
    "kernelspec": {
      "name": "python3",
      "display_name": "Python 3"
    },
    "language_info": {
      "name": "python"
    }
  },
  "cells": [
    {
      "cell_type": "markdown",
      "source": [
        "Excercise1\n",
        "1) Create Two numpy array of size 4 X 5 and 5 X 4.\n",
        "2) Randomly Initalize that array\n",
        "3) Perform matrix multiplication"
      ],
      "metadata": {
        "id": "E3MwEmh0SkLW"
      }
    },
    {
      "cell_type": "code",
      "execution_count": null,
      "metadata": {
        "colab": {
          "base_uri": "https://localhost:8080/"
        },
        "id": "undbQxRt6-Zi",
        "outputId": "16889fcc-4481-4c98-93ec-b4c01f1268db"
      },
      "outputs": [
        {
          "output_type": "stream",
          "name": "stdout",
          "text": [
            "Determinant of matrix A:  0.0\n",
            "Determinant of matrix B:  0.0\n",
            "Transpose of matrix A: \n",
            " [[ 1  5  9 13]\n",
            " [ 2  6 10 14]\n",
            " [ 3  7 11 15]\n",
            " [ 4  8 12 16]]\n",
            "Transpose of matrix B: \n",
            " [[ 4  8 12 16]\n",
            " [ 3  7 11 15]\n",
            " [ 2  6 10 14]\n",
            " [ 1  5  9 13]]\n",
            "Norm of matrix A:  38.67815921162743\n",
            "Norm of matrix B:  38.67815921162743\n",
            "Result of matrix multiplication of A and B: \n",
            " [[120 110 100  90]\n",
            " [280 254 228 202]\n",
            " [440 398 356 314]\n",
            " [600 542 484 426]]\n"
          ]
        }
      ],
      "source": [
        "import numpy as np\n",
        "\n",
        "# Create two 4x4 arrays\n",
        "A = np.array([[1, 2, 3, 4],\n",
        "              [5, 6, 7, 8],\n",
        "              [9, 10, 11, 12],\n",
        "              [13, 14, 15, 16]])\n",
        "\n",
        "B = np.array([[4, 3, 2, 1],\n",
        "              [8, 7, 6, 5],\n",
        "              [12, 11, 10, 9],\n",
        "              [16, 15, 14, 13]])\n",
        "\n",
        "# Define functions to calculate determinant, transpose, norm, and matrix multiplication\n",
        "def determinant(matrix):\n",
        "    \"\"\"Calculate the determinant of a matrix\"\"\"\n",
        "    return np.linalg.det(matrix)\n",
        "\n",
        "def transpose(matrix):\n",
        "    \"\"\"Calculate the transpose of a matrix\"\"\"\n",
        "    return matrix.T\n",
        "\n",
        "def norm(matrix):\n",
        "    \"\"\"Calculate the norm of a matrix\"\"\"\n",
        "    return np.linalg.norm(matrix)\n",
        "\n",
        "def matrix_multiplication(matrix1, matrix2):\n",
        "    \"\"\"Perform matrix multiplication of two matrices\"\"\"\n",
        "    return np.matmul(matrix1, matrix2)\n",
        "\n",
        "# Calculate the determinant of A and B\n",
        "detA = determinant(A)\n",
        "detB = determinant(B)\n",
        "print(\"Determinant of matrix A: \", detA)\n",
        "print(\"Determinant of matrix B: \", detB)\n",
        "\n",
        "# Calculate the transpose of A and B\n",
        "AT = transpose(A)\n",
        "BT = transpose(B)\n",
        "print(\"Transpose of matrix A: \\n\", AT)\n",
        "print(\"Transpose of matrix B: \\n\", BT)\n",
        "\n",
        "# Calculate the norm of A and B\n",
        "normA = norm(A)\n",
        "normB = norm(B)\n",
        "print(\"Norm of matrix A: \", normA)\n",
        "print(\"Norm of matrix B: \", normB)\n",
        "\n",
        "# Perform matrix multiplication of A and B\n",
        "C = matrix_multiplication(A, B)\n",
        "print(\"Result of matrix multiplication of A and B: \\n\", C)"
      ]
    },
    {
      "cell_type": "code",
      "source": [
        "tweet = \"Just watched an amazing movie with my friends\"\n",
        "import nltk\n",
        "from nltk.corpus import stopwords\n",
        "from nltk.tokenize import word_tokenize\n",
        "nltk.download('stopwords')\n",
        "nltk.download('punkt')\n",
        "nltk.download('wordnet')\n",
        "\n",
        "stop_words = set(stopwords.words('english'))\n",
        "\n",
        "tokens = word_tokenize(tweet.lower())\n",
        "\n",
        "tokens = [token for token in tokens if token.isalnum() and token not in stop_words]\n",
        "from nltk.stem import PorterStemmer, WordNetLemmatizer\n",
        "\n",
        "porter = PorterStemmer()\n",
        "wordnet_lemmatizer = WordNetLemmatizer()\n",
        "\n",
        "stemmed_tokens = [porter.stem(token) for token in tokens]\n",
        "lemmatized_tokens = [wordnet_lemmatizer.lemmatize(token) for token in tokens]\n",
        "# Stemmed Tokens: ['watch', 'amaz', 'movi', 'friend', 'love', 'spend', 'time', 'movienight', 'friend', 'fun']\n",
        "# Lemmatized Tokens: ['watched', 'amazing', 'movie', 'friend', 'love', 'spending', 'time', 'movienight', 'friend', 'fun']\n",
        "\n"
      ],
      "metadata": {
        "id": "p5mOGu8P9Ti6"
      },
      "execution_count": null,
      "outputs": []
    },
    {
      "cell_type": "code",
      "source": [],
      "metadata": {
        "id": "3uFlbzgiBBFN"
      },
      "execution_count": null,
      "outputs": []
    }
  ]
}